{
  "metadata": {
    "language_info": {
      "codemirror_mode": {
        "name": "python",
        "version": 3
      },
      "file_extension": ".py",
      "mimetype": "text/x-python",
      "name": "python",
      "nbconvert_exporter": "python",
      "pygments_lexer": "ipython3",
      "version": "3.8"
    },
    "kernelspec": {
      "name": "python",
      "display_name": "Python (Pyodide)",
      "language": "python"
    }
  },
  "nbformat_minor": 4,
  "nbformat": 4,
  "cells": [
    {
      "cell_type": "code",
      "source": "# Варіант 26\n# Скороход Віталій\n\n#Обчислення інтеграла методом прямокутників\nfrom scipy import integrate \nimport numpy as np\neps = 0.001\na = 1.2\nb = 2\nn = 10\ndef f1(x): \n    return 1/np.sqrt(x + 1.2)\n\ndef left_rec(f1,a,b,n): \n    h=(b-a)/n \n    sum=0 \n    for i in range(0,n): \n        sum+=f1(a+i*h) \n    return sum*h \n\nv,err = integrate.quad(f1,a,b) #Перевірка\n\n#Перевірка точності за правилом Рунге:\nif abs(left_rec(f1,a,b,2*n) - left_rec(f1,a,b,n))/3. <=eps:\n    print(\"Метод лівих прямокутників : \",round (left_rec(f1,a,b,n), 4)) \n    \ndef right_rec(f1,a,b,n): \n    h=(b-a)/n \n    sum=0 \n    for i in range(1,n+1): \n        sum+=f1(a+i*h) \n    return sum*h \nprint(\"Метод правих прямокутників : \",round (right_rec(f1,a,b,10), 4)) \ndef aver_rec(f1,a,b,n): \n    h=0.08 \n    sum=0 \n    for i in range(0,n): \n        sum+=f1(a+i*h) \n    return sum*h \nprint(\"Метод середніх прямокутників : \",round (aver_rec(f1,a,b,10), 4)) \nprint(\"Перевірка методів прямокутника = \",round (v, 4))\n",
      "metadata": {
        "trusted": true
      },
      "execution_count": 11,
      "outputs": [
        {
          "name": "stdout",
          "text": "Метод лівих прямокутників :  0.4828\nМетод правих прямокутників :  0.4759\nМетод середніх прямокутників :  0.4828\nПеревірка методів прямокутника =  0.4793\n",
          "output_type": "stream"
        }
      ]
    },
    {
      "cell_type": "code",
      "source": "#Обчислення інтеграла методом Симпсона\nfrom scipy import integrate \nimport numpy as np\n\n# Задаємо функцію, яку необхідно інтегрувати\ndef f(x):\n    return (np.sqrt(x)+1)*np.tan(2*x)\n\n# Задаємо межі інтегрування та початкову кількість розбиттів\na = 0.6\nb = 0.72\nn = 8\n\n# Обчислюємо значення інтегралу методом Симпсона\ndef simpson_rule(f, a, b, n):\n    h = (b - a) / n \n    integr = f(a) + f(b) \n    for i in range(1,n): \n        k = a + i*h \n        if i%2 == 0: \n            integr += 2 * f(k) \n        else: \n            integr += 4 * f(k) \n    integr *= h/3 \n    return integr \n\n# Обчислюємо значення інтегралу методом Сімпсона\nintegral1 = simpson_rule(f, a, b, n)\nn *= 2\nintegral2 = simpson_rule(f, a, b, n)\nwhile abs(integral2 - integral1) / 15 > 0.0001:\n    integral1 = integral2\n    n *= 2\n    integral2 = simpson_rule(f, a, b, n)\n# Виводимо результат\nprint(\"Метод Сімпсона :\", round(integral2, 4))\n\nv,err = integrate.quad(f,a,b)#Перевірка \nprint(\"Перевірка методу Сімпсона = \",round(v, 4))\n",
      "metadata": {
        "trusted": true
      },
      "execution_count": 12,
      "outputs": [
        {
          "name": "stdout",
          "text": "Метод Сімпсона : 0.9292\nПеревірка методу Сімпсона =  0.9292\n",
          "output_type": "stream"
        }
      ]
    },
    {
      "cell_type": "code",
      "source": "#Обчислення інтегралу методом трапецій\nfrom scipy import integrate \nimport numpy as np\n\n# Задаємо функцію, яку необхідно інтегрувати\ndef f(x):\n    return 1 /np.sqrt(2 * x**2 + 3)\n\n# Задаємо межі інтегрування та початкову кількість розбиттів\na = 0.8\nb = 1.4\nn = 20\n\n# Обчислюємо значення інтегралу методом трапецій\ndef trapezoidal_rule(f, a, b, n):\n    h = (b - a) / n\n    x = a\n    sum = 0\n    for i in range(1, n):\n        x += h\n        sum += 2 * f(x)\n    sum += f(b)\n    integral = h / 2 * sum\n\n    return integral\n\n# Обчислюємо значення інтегралу методом трапецій\n#Перевірка точності за правилом Рунге\nintegral1 = trapezoidal_rule(f, a, b, n)\nn *= 2\nintegral2 = trapezoidal_rule(f, a, b, n)\n\nwhile abs(integral2 - integral1) / 3 > 0.0001:\n    integral1 = integral2\n    n *= 2\n    integral2 = trapezoidal_rule(f, a, b, n)\n\n# Виводимо результат\nprint(\"Метод  трапеції:\", round(integral2, 3))\n\nv,err = integrate.quad(f,a,b) #Перевірка\nprint(\"Перевірка методу трапеції = \",round(v, 3))\n",
      "metadata": {
        "trusted": true
      },
      "execution_count": 14,
      "outputs": [
        {
          "name": "stdout",
          "text": "Метод  трапеції: 0.258\nПеревірка методу трапеції =  0.258\n",
          "output_type": "stream"
        }
      ]
    },
    {
      "cell_type": "code",
      "source": "",
      "metadata": {},
      "execution_count": null,
      "outputs": []
    }
  ]
}