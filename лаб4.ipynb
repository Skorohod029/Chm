{
  "metadata": {
    "language_info": {
      "codemirror_mode": {
        "name": "python",
        "version": 3
      },
      "file_extension": ".py",
      "mimetype": "text/x-python",
      "name": "python",
      "nbconvert_exporter": "python",
      "pygments_lexer": "ipython3",
      "version": "3.8"
    },
    "kernelspec": {
      "name": "python",
      "display_name": "Python (Pyodide)",
      "language": "python"
    }
  },
  "nbformat_minor": 4,
  "nbformat": 4,
  "cells": [
    {
      "cell_type": "code",
      "source": "import numpy as np \na = np.array([[1,2],[1,-1]])\nb = np.array([[2,-3],[-4,1]])\nab = a.dot(b)\nba = b.dot(a)\nc = ab - ba\nprint(c)",
      "metadata": {
        "trusted": true
      },
      "execution_count": 5,
      "outputs": [
        {
          "name": "stdout",
          "text": "[[-5 -8]\n [ 9  5]]\n",
          "output_type": "stream"
        }
      ]
    },
    {
      "cell_type": "code",
      "source": "a = np.array([[-1,2],[0,1]])\na_2 = np.linalg.matrix_power(a, 2)\nprint(a_2)",
      "metadata": {
        "trusted": true
      },
      "execution_count": 6,
      "outputs": [
        {
          "name": "stdout",
          "text": "[[1 0]\n [0 1]]\n",
          "output_type": "stream"
        }
      ]
    },
    {
      "cell_type": "code",
      "source": "a = np.array([[3,5],[6,-1]])\nb = np.array([[2,1],[-3,2]])\nc = a.dot(b) \nprint(c)",
      "metadata": {
        "trusted": true
      },
      "execution_count": 7,
      "outputs": [
        {
          "name": "stdout",
          "text": "[[-9 13]\n [15  4]]\n",
          "output_type": "stream"
        }
      ]
    },
    {
      "cell_type": "code",
      "source": "a = np.matrix('2 3 4; 1 0 6; 7 8 9') \ndet = np.linalg.det(a)\nprint(\"Визначник = \", det.round(1))",
      "metadata": {
        "trusted": true
      },
      "execution_count": 8,
      "outputs": [
        {
          "name": "stdout",
          "text": "Визначник =  35.0\n",
          "output_type": "stream"
        }
      ]
    },
    {
      "cell_type": "code",
      "source": "a = np.matrix('1 2 3 4;-2 1 -4 3; 3 -4 -1 2; 4 3 -2 -1')\ndet = np.linalg.det(a)\nprint(\"Визначник = \", det.round(1))",
      "metadata": {
        "trusted": true
      },
      "execution_count": 9,
      "outputs": [
        {
          "name": "stdout",
          "text": "Визначник =  900.0\n",
          "output_type": "stream"
        }
      ]
    },
    {
      "cell_type": "code",
      "source": "a = np.array([[1,2,-3],[0,1,2],[0,0,1]])\ninv = np.linalg.inv(a)\nprint('Обернена матриця : ',\"\\n\", inv)",
      "metadata": {
        "trusted": true
      },
      "execution_count": 10,
      "outputs": [
        {
          "name": "stdout",
          "text": "Обернена матриця :  \n [[ 1. -2.  7.]\n [ 0.  1. -2.]\n [ 0.  0.  1.]]\n",
          "output_type": "stream"
        }
      ]
    },
    {
      "cell_type": "code",
      "source": "a = np.array([[1,2,3,4],[3,-1,2,5],[1,2,3,4],[1,3,4,5]])\nrank_a = np.linalg.matrix_rank(a)\nprint(rank_a)",
      "metadata": {
        "trusted": true
      },
      "execution_count": 11,
      "outputs": [
        {
          "name": "stdout",
          "text": "2\n",
          "output_type": "stream"
        }
      ]
    },
    {
      "cell_type": "code",
      "source": "a = np.array([[1,2,-1],[3,4,1],[5,1,-3]])\nb = np.array([[-3],[1],[-2]])\ndef kram(a,b):# метод Крамера\n    det_a = np.linalg.det(a)\n    if det_a != 0:\n       a1 = np.matrix(a)\n       a2 = np.matrix(a)\n       a3 = np.matrix(a)\n       a1[:, 0] = b\n       a2[:, 1] = b\n       a3[:, 2] = b\n       x = np.linalg.det(a1)/det_a\n       y =np.linalg.det(a2)/det_a\n       z= np.linalg.det(a3)/det_a\n       # print('Solving a system of linear algebraic equations by Cramer*s method')\n       print('x=',x.round(1),'y=',y.round(1),'z=',z.round(1)) \n    else:\n        print(\"Система немає розв'язків, оскільки визначник дорівнює 0 \")\n    return(x,y,z)\nkram(a,b)\nprint(\"Перевірка розв'язку : \",\"\\n\", np.linalg.solve(a,b).round(1))\n",
      "metadata": {
        "trusted": true
      },
      "execution_count": 12,
      "outputs": [
        {
          "name": "stdout",
          "text": "x= 1.0 y= -1.0 z= 2.0\nПеревірка розв'язку :  \n [[ 1.]\n [-1.]\n [ 2.]]\n",
          "output_type": "stream"
        }
      ]
    },
    {
      "cell_type": "code",
      "source": "a = np.array([[1,2,-1],[3,4,1],[5,1,-3]])\nb = np.array([[-3],[1],[-2]])\ninv_a = np.linalg.inv(a)\nx = inv_a.dot(b)\nprint('X=', x)\nprint(\"Перевірка розв'язання : \",\"\\n\", np.linalg.solve(a,b).round(1))",
      "metadata": {
        "trusted": true
      },
      "execution_count": 13,
      "outputs": [
        {
          "name": "stdout",
          "text": "X= [[ 1.]\n [-1.]\n [ 2.]]\nПеревірка розв'язання :  \n [[ 1.]\n [-1.]\n [ 2.]]\n",
          "output_type": "stream"
        }
      ]
    },
    {
      "cell_type": "code",
      "source": "import random as rd\nn = 3\nm = 4\na = np.zeros((n, m), dtype=int)\nfor i in range(n): \n    for j in range(m):\n        a[i][j] = rd.randint(-20, 20)\n\nprint(a)\n\nfor i in range(n): \n    counter_row = 0\n    for j in range(m):\n        if(a[i][j] < 0):\n            counter_row += 1\n    print(f\"Кількість від'ємних елементів {i+1} рядка: {counter_row}\")\n\nfor j in range(m): \n    counter_column = 0\n    for i in range(n):\n        if(a[i][j] < 0):\n            counter_column += 1\n    print(f\"Кількість від'ємних елементів {j+1} стовпця: {counter_column}\")\n",
      "metadata": {
        "trusted": true
      },
      "execution_count": 18,
      "outputs": [
        {
          "name": "stdout",
          "text": "[[  1   1 -15  13]\n [ 10   7  -1 -18]\n [ 15   3  -6  15]]\nКількість від'ємних елементів 1 рядка: 1\nКількість від'ємних елементів 2 рядка: 2\nКількість від'ємних елементів 3 рядка: 1\nКількість від'ємних елементів 1 стовпця: 0\nКількість від'ємних елементів 2 стовпця: 0\nКількість від'ємних елементів 3 стовпця: 3\nКількість від'ємних елементів 4 стовпця: 1\n",
          "output_type": "stream"
        }
      ]
    },
    {
      "cell_type": "code",
      "source": "",
      "metadata": {},
      "execution_count": null,
      "outputs": []
    }
  ]
}